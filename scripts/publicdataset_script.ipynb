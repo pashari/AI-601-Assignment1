{
 "cells": [
  {
   "cell_type": "code",
   "execution_count": 1,
   "metadata": {},
   "outputs": [
    {
     "name": "stdout",
     "output_type": "stream",
     "text": [
      "Collecting kaggle\n",
      "  Using cached kaggle-1.6.17.tar.gz (82 kB)\n",
      "  Preparing metadata (setup.py) ... \u001b[?25ldone\n",
      "\u001b[?25hCollecting six>=1.10 (from kaggle)\n",
      "  Using cached six-1.17.0-py2.py3-none-any.whl.metadata (1.7 kB)\n",
      "Requirement already satisfied: certifi>=2023.7.22 in /Users/affaanpasha/miniconda3/lib/python3.12/site-packages (from kaggle) (2024.8.30)\n",
      "Collecting python-dateutil (from kaggle)\n",
      "  Using cached python_dateutil-2.9.0.post0-py2.py3-none-any.whl.metadata (8.4 kB)\n",
      "Requirement already satisfied: requests in /Users/affaanpasha/miniconda3/lib/python3.12/site-packages (from kaggle) (2.32.3)\n",
      "Requirement already satisfied: tqdm in /Users/affaanpasha/miniconda3/lib/python3.12/site-packages (from kaggle) (4.66.5)\n",
      "Collecting python-slugify (from kaggle)\n",
      "  Using cached python_slugify-8.0.4-py2.py3-none-any.whl.metadata (8.5 kB)\n",
      "Requirement already satisfied: urllib3 in /Users/affaanpasha/miniconda3/lib/python3.12/site-packages (from kaggle) (2.2.3)\n",
      "Collecting bleach (from kaggle)\n",
      "  Using cached bleach-6.2.0-py3-none-any.whl.metadata (30 kB)\n",
      "Collecting webencodings (from bleach->kaggle)\n",
      "  Using cached webencodings-0.5.1-py2.py3-none-any.whl.metadata (2.1 kB)\n",
      "Collecting text-unidecode>=1.3 (from python-slugify->kaggle)\n",
      "  Using cached text_unidecode-1.3-py2.py3-none-any.whl.metadata (2.4 kB)\n",
      "Requirement already satisfied: charset-normalizer<4,>=2 in /Users/affaanpasha/miniconda3/lib/python3.12/site-packages (from requests->kaggle) (3.3.2)\n",
      "Requirement already satisfied: idna<4,>=2.5 in /Users/affaanpasha/miniconda3/lib/python3.12/site-packages (from requests->kaggle) (3.7)\n",
      "Using cached six-1.17.0-py2.py3-none-any.whl (11 kB)\n",
      "Using cached bleach-6.2.0-py3-none-any.whl (163 kB)\n",
      "Using cached python_dateutil-2.9.0.post0-py2.py3-none-any.whl (229 kB)\n",
      "Using cached python_slugify-8.0.4-py2.py3-none-any.whl (10 kB)\n",
      "Using cached text_unidecode-1.3-py2.py3-none-any.whl (78 kB)\n",
      "Using cached webencodings-0.5.1-py2.py3-none-any.whl (11 kB)\n",
      "Building wheels for collected packages: kaggle\n",
      "  Building wheel for kaggle (setup.py) ... \u001b[?25ldone\n",
      "\u001b[?25h  Created wheel for kaggle: filename=kaggle-1.6.17-py3-none-any.whl size=105786 sha256=526286c1be9669fe54cee6333b9dfa148cc41670ffb8cc41512866f2e9b92ef9\n",
      "  Stored in directory: /Users/affaanpasha/Library/Caches/pip/wheels/46/d2/26/84d0a1acdb9c6baccf7d28cf06962ec80529fe1ad938489983\n",
      "Successfully built kaggle\n",
      "Installing collected packages: webencodings, text-unidecode, six, python-slugify, bleach, python-dateutil, kaggle\n",
      "Successfully installed bleach-6.2.0 kaggle-1.6.17 python-dateutil-2.9.0.post0 python-slugify-8.0.4 six-1.17.0 text-unidecode-1.3 webencodings-0.5.1\n"
     ]
    }
   ],
   "source": [
    "!pip install kaggle"
   ]
  },
  {
   "cell_type": "code",
   "execution_count": 2,
   "metadata": {},
   "outputs": [
    {
     "name": "stdout",
     "output_type": "stream",
     "text": [
      "Dataset URL: https://www.kaggle.com/datasets/utkarshtomar736/odi-mens-cricket-match-data-2002-2023\n",
      "License(s): CC-BY-SA-4.0\n",
      "Downloading odi-mens-cricket-match-data-2002-2023.zip to /Users/affaanpasha/Desktop/UNI/SPRING 2025/AI601/assignment1\n",
      "100%|██████████████████████████████████████| 6.87M/6.87M [00:04<00:00, 1.84MB/s]\n",
      "100%|██████████████████████████████████████| 6.87M/6.87M [00:04<00:00, 1.58MB/s]\n"
     ]
    }
   ],
   "source": [
    "#download dataset\n",
    "\n",
    "!kaggle datasets download -d utkarshtomar736/odi-mens-cricket-match-data-2002-2023\n"
   ]
  },
  {
   "cell_type": "code",
   "execution_count": 3,
   "metadata": {},
   "outputs": [
    {
     "name": "stderr",
     "output_type": "stream",
     "text": [
      "/var/folders/k_/y47t5fy50tn7z3yqntvnkrqr0000gn/T/ipykernel_65821/382275167.py:12: DtypeWarning: Columns (1) have mixed types. Specify dtype option on import or set low_memory=False.\n",
      "  delivery_df = pd.read_csv(\"/Users/affaanpasha/Desktop/UNI/SPRING 2025/AI601/assignment1/odi_cricket_data/ODI_Match_Data.csv\")\n"
     ]
    },
    {
     "name": "stdout",
     "output_type": "stream",
     "text": [
      "        id   season        city        date        team1       team2  \\\n",
      "0  1389389  2023/24      Indore  2023/09/24        India   Australia   \n",
      "1  1336129     2023  Nottingham  2023/09/23      England     Ireland   \n",
      "2  1395701     2023       Dhaka  2023/09/23  New Zealand  Bangladesh   \n",
      "3  1389388  2023/24  Chandigarh  2023/09/22    Australia       India   \n",
      "4  1395700     2023       Dhaka  2023/09/21  New Zealand  Bangladesh   \n",
      "\n",
      "   toss_winner toss_decision  result  dl_applied       winner  win_by_runs  \\\n",
      "0    Australia         field     D/L           1        India           99   \n",
      "1      Ireland         field  normal           0      England           48   \n",
      "2  New Zealand           bat  normal           0  New Zealand           86   \n",
      "3        India         field  normal           0        India            0   \n",
      "4   Bangladesh         field  normal           0          NaN            0   \n",
      "\n",
      "   win_by_wickets player_of_match  \\\n",
      "0               0         SS Iyer   \n",
      "1               0        WG Jacks   \n",
      "2               0        IS Sodhi   \n",
      "3               5  Mohammed Shami   \n",
      "4               0             NaN   \n",
      "\n",
      "                                               venue                umpire1  \\\n",
      "0                     Holkar Cricket Stadium, Indore          J Madanagopal   \n",
      "1                           Trent Bridge, Nottingham              DJ Millns   \n",
      "2              Shere Bangla National Stadium, Mirpur              M Erasmus   \n",
      "3  Punjab Cricket Association IS Bindra Stadium, ...  KN Ananthapadmanabhan   \n",
      "4              Shere Bangla National Stadium, Mirpur            Nitin Menon   \n",
      "\n",
      "           umpire2                umpire3  \n",
      "0  HDPK Dharmasena  KN Ananthapadmanabhan  \n",
      "1        RJ Tucker             PR Reiffel  \n",
      "2     Sharfuddoula            Nitin Menon  \n",
      "3  HDPK Dharmasena          J Madanagopal  \n",
      "4     Sharfuddoula              M Erasmus  \n"
     ]
    }
   ],
   "source": [
    "import kaggle\n",
    "import pandas as pd\n",
    "import zipfile\n",
    "\n",
    "\n",
    "#extract files\n",
    "with zipfile.ZipFile(\"odi-mens-cricket-match-data-2002-2023.zip\", \"r\") as z:\n",
    "    z.extractall(\"odi_cricket_data\")\n",
    "\n",
    "# Load the CSV file into Pandas\n",
    "match_df = pd.read_csv(\"/Users/affaanpasha/Desktop/UNI/SPRING 2025/AI601/assignment1/odi_cricket_data/ODI_Match_info.csv\")  # Replace with the actual filename\n",
    "delivery_df = pd.read_csv(\"/Users/affaanpasha/Desktop/UNI/SPRING 2025/AI601/assignment1/odi_cricket_data/ODI_Match_Data.csv\")\n",
    "\n",
    "print(match_df.head())\n"
   ]
  },
  {
   "cell_type": "code",
   "execution_count": null,
   "metadata": {},
   "outputs": [
    {
     "name": "stdout",
     "output_type": "stream",
     "text": [
      "   match_id   season  start_date                           venue  innings  \\\n",
      "0   1389389  2023/24  2023-09-24  Holkar Cricket Stadium, Indore        1   \n",
      "1   1389389  2023/24  2023-09-24  Holkar Cricket Stadium, Indore        1   \n",
      "2   1389389  2023/24  2023-09-24  Holkar Cricket Stadium, Indore        1   \n",
      "3   1389389  2023/24  2023-09-24  Holkar Cricket Stadium, Indore        1   \n",
      "4   1389389  2023/24  2023-09-24  Holkar Cricket Stadium, Indore        1   \n",
      "\n",
      "   ball batting_team bowling_team     striker   non_striker  ... wides  \\\n",
      "0   0.1        India    Australia  RD Gaikwad  Shubman Gill  ...   NaN   \n",
      "1   0.2        India    Australia  RD Gaikwad  Shubman Gill  ...   NaN   \n",
      "2   0.3        India    Australia  RD Gaikwad  Shubman Gill  ...   NaN   \n",
      "3   0.4        India    Australia  RD Gaikwad  Shubman Gill  ...   NaN   \n",
      "4   0.5        India    Australia  RD Gaikwad  Shubman Gill  ...   NaN   \n",
      "\n",
      "   noballs  byes  legbyes  penalty  wicket_type  player_dismissed  \\\n",
      "0      NaN   NaN      NaN      NaN          NaN               NaN   \n",
      "1      NaN   NaN      NaN      NaN          NaN               NaN   \n",
      "2      NaN   NaN      NaN      NaN          NaN               NaN   \n",
      "3      NaN   NaN      NaN      NaN          NaN               NaN   \n",
      "4      NaN   NaN      NaN      NaN          NaN               NaN   \n",
      "\n",
      "   other_wicket_type other_player_dismissed cricsheet_id  \n",
      "0                NaN                    NaN      1389389  \n",
      "1                NaN                    NaN      1389389  \n",
      "2                NaN                    NaN      1389389  \n",
      "3                NaN                    NaN      1389389  \n",
      "4                NaN                    NaN      1389389  \n",
      "\n",
      "[5 rows x 23 columns]\n"
     ]
    }
   ],
   "source": [
    "print(delivery_df.head())"
   ]
  },
  {
   "cell_type": "code",
   "execution_count": 5,
   "metadata": {},
   "outputs": [
    {
     "name": "stdout",
     "output_type": "stream",
     "text": [
      "          id season        city        date     team1     team2 toss_winner  \\\n",
      "14   1388406   2023     Colombo  2023/09/11     India  Pakistan    Pakistan   \n",
      "24   1388394   2023       Kandy  2023/09/02     India  Pakistan       India   \n",
      "487  1144504   2019  Manchester  2019/06/16     India  Pakistan    Pakistan   \n",
      "602  1153251   2018         NaN  2018/09/23  Pakistan     India    Pakistan   \n",
      "606  1153247   2018         NaN  2018/09/19  Pakistan     India    Pakistan   \n",
      "\n",
      "    toss_decision  result  dl_applied winner  win_by_runs  win_by_wickets  \\\n",
      "14          field  normal           0  India          228               0   \n",
      "24            bat  normal           0    NaN            0               0   \n",
      "487         field     D/L           1  India           89               0   \n",
      "602           bat  normal           0  India            0               9   \n",
      "606           bat  normal           0  India            0               8   \n",
      "\n",
      "    player_of_match                                    venue         umpire1  \\\n",
      "14          V Kohli             R Premadasa Stadium, Colombo     CB Gaffaney   \n",
      "24              NaN  Pallekele International Cricket Stadium  RK Illingworth   \n",
      "487       RG Sharma                             Old Trafford    BNJ Oxenford   \n",
      "602        S Dhawan      Dubai International Cricket Stadium       RJ Tucker   \n",
      "606         B Kumar      Dubai International Cricket Stadium       M Erasmus   \n",
      "\n",
      "               umpire2         umpire3  \n",
      "14   RSA Palliyaguruge  RK Illingworth  \n",
      "24   RSA Palliyaguruge        P Wilson  \n",
      "487          M Erasmus       JS Wilson  \n",
      "602  RSA Palliyaguruge   GO Brathwaite  \n",
      "606  RSA Palliyaguruge   GO Brathwaite  \n",
      "Filtered Match IDs: [1388406 1388394 1144504 1153251 1153247 1022375 1022353  656405  710301\n",
      "  578623  589310  589309  589308  535798  433605  455234  415278  335355\n",
      "  335351  345471  345469  297805  297804  297803  297802  297801  244511\n",
      "  244510  237571  237222  236809  236520  235831   64943   64942   64941\n",
      "   64939   66207   66374   64885   64884   64883   64882   65268]\n"
     ]
    }
   ],
   "source": [
    "# filter only pak vs india matches\n",
    "\n",
    "pak_vs_ind_matches = match_df[((match_df['team1'] == \"Pakistan\" ) & (match_df['team2'] == \"India\")) | ((match_df['team1'] == \"India\") & (match_df['team2'] == \"Pakistan\"))]\n",
    "\n",
    "# Extract match IDs for India vs Pakistan matches\n",
    "print(pak_vs_ind_matches.head())\n",
    "pak_india_match_ids = pak_vs_ind_matches[\"id\"].unique()\n",
    "print(\"Filtered Match IDs:\", pak_india_match_ids)"
   ]
  },
  {
   "cell_type": "code",
   "execution_count": 6,
   "metadata": {},
   "outputs": [
    {
     "name": "stdout",
     "output_type": "stream",
     "text": [
      "      match_id season  start_date                         venue  innings  \\\n",
      "7310   1388406   2023  2023-09-10  R Premadasa Stadium, Colombo        1   \n",
      "7311   1388406   2023  2023-09-10  R Premadasa Stadium, Colombo        1   \n",
      "7312   1388406   2023  2023-09-10  R Premadasa Stadium, Colombo        1   \n",
      "7313   1388406   2023  2023-09-10  R Premadasa Stadium, Colombo        1   \n",
      "7314   1388406   2023  2023-09-10  R Premadasa Stadium, Colombo        1   \n",
      "\n",
      "      ball batting_team bowling_team    striker   non_striker  ... wides  \\\n",
      "7310   0.1        India     Pakistan  RG Sharma  Shubman Gill  ...   NaN   \n",
      "7311   0.2        India     Pakistan  RG Sharma  Shubman Gill  ...   NaN   \n",
      "7312   0.3        India     Pakistan  RG Sharma  Shubman Gill  ...   NaN   \n",
      "7313   0.4        India     Pakistan  RG Sharma  Shubman Gill  ...   NaN   \n",
      "7314   0.5        India     Pakistan  RG Sharma  Shubman Gill  ...   NaN   \n",
      "\n",
      "      noballs  byes  legbyes  penalty  wicket_type  player_dismissed  \\\n",
      "7310      NaN   NaN      NaN      NaN          NaN               NaN   \n",
      "7311      NaN   NaN      NaN      NaN          NaN               NaN   \n",
      "7312      NaN   NaN      NaN      NaN          NaN               NaN   \n",
      "7313      NaN   NaN      NaN      NaN          NaN               NaN   \n",
      "7314      NaN   NaN      NaN      NaN          NaN               NaN   \n",
      "\n",
      "      other_wicket_type other_player_dismissed cricsheet_id  \n",
      "7310                NaN                    NaN      1388406  \n",
      "7311                NaN                    NaN      1388406  \n",
      "7312                NaN                    NaN      1388406  \n",
      "7313                NaN                    NaN      1388406  \n",
      "7314                NaN                    NaN      1388406  \n",
      "\n",
      "[5 rows x 23 columns]\n"
     ]
    }
   ],
   "source": [
    "# display matches details for pak vs ind matches\n",
    "\n",
    "pak_india_deliveries = delivery_df[delivery_df['match_id'].isin(pak_india_match_ids)]\n",
    "\n",
    "print(pak_india_deliveries.head())\n"
   ]
  },
  {
   "cell_type": "code",
   "execution_count": 7,
   "metadata": {},
   "outputs": [],
   "source": [
    "#save to csv files\n",
    "pak_india_deliveries.to_csv(\"pak_india_deliveries.csv\", index=False)\n",
    "pak_vs_ind_matches.to_csv(\"pak_india_matches.csv\", index = False)"
   ]
  }
 ],
 "metadata": {
  "kernelspec": {
   "display_name": "Python 3",
   "language": "python",
   "name": "python3"
  },
  "language_info": {
   "codemirror_mode": {
    "name": "ipython",
    "version": 3
   },
   "file_extension": ".py",
   "mimetype": "text/x-python",
   "name": "python",
   "nbconvert_exporter": "python",
   "pygments_lexer": "ipython3",
   "version": "3.11.6"
  }
 },
 "nbformat": 4,
 "nbformat_minor": 2
}
